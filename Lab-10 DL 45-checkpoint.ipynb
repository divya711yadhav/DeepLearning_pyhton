{
 "cells": [
  {
   "cell_type": "markdown",
   "id": "984213d4",
   "metadata": {},
   "source": [
    "# Lab10: Deployment of DNN as a web service"
   ]
  },
  {
   "cell_type": "code",
   "execution_count": 1,
   "id": "f03463e3",
   "metadata": {},
   "outputs": [],
   "source": [
    "import nltk\n",
    "from nltk.sentiment.vader import SentimentIntensityAnalyzer"
   ]
  },
  {
   "cell_type": "code",
   "execution_count": 2,
   "id": "491276c9",
   "metadata": {},
   "outputs": [
    {
     "name": "stderr",
     "output_type": "stream",
     "text": [
      "[nltk_data] Downloading package vader_lexicon to\n",
      "[nltk_data]     C:\\Users\\yokes\\AppData\\Roaming\\nltk_data...\n",
      "[nltk_data]   Package vader_lexicon is already up-to-date!\n"
     ]
    },
    {
     "data": {
      "text/plain": [
       "True"
      ]
     },
     "execution_count": 2,
     "metadata": {},
     "output_type": "execute_result"
    }
   ],
   "source": [
    "nltk.download('vader_lexicon')"
   ]
  },
  {
   "cell_type": "code",
   "execution_count": 3,
   "id": "93a0379c",
   "metadata": {},
   "outputs": [],
   "source": [
    "def model():\n",
    "    text=input(\"Enter a sentence: \")\n",
    "    sid=SentimentIntensityAnalyzer()\n",
    "    score=((sid.polarity_scores(str(text))))['compound']\n",
    "\n",
    "    if(score>0):\n",
    "        label='This sentence is positive'\n",
    "    elif(score==0):\n",
    "        label='This sentence is neutral'\n",
    "    else:\n",
    "        label='This sentence is negative'\n",
    "\n",
    "    print(label)"
   ]
  },
  {
   "cell_type": "code",
   "execution_count": 4,
   "id": "b094f6bc",
   "metadata": {},
   "outputs": [
    {
     "name": "stdout",
     "output_type": "stream",
     "text": [
      "Enter a sentence: Angry\n",
      "This sentence is negative\n"
     ]
    }
   ],
   "source": [
    "model()"
   ]
  },
  {
   "cell_type": "code",
   "execution_count": null,
   "id": "bcfc54f3",
   "metadata": {},
   "outputs": [],
   "source": []
  }
 ],
 "metadata": {
  "kernelspec": {
   "display_name": "Python 3",
   "language": "python",
   "name": "python3"
  },
  "language_info": {
   "codemirror_mode": {
    "name": "ipython",
    "version": 3
   },
   "file_extension": ".py",
   "mimetype": "text/x-python",
   "name": "python",
   "nbconvert_exporter": "python",
   "pygments_lexer": "ipython3",
   "version": "3.8.8"
  }
 },
 "nbformat": 4,
 "nbformat_minor": 5
}
